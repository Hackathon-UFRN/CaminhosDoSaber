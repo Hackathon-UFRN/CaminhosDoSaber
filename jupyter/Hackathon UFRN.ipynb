{
 "cells": [
  {
   "cell_type": "markdown",
   "metadata": {},
   "source": [
    "# 1V3C\n",
    "Projeto referente ao I Hackathon da UFRN.\n",
    "\n",
    "Fonte dos dados:\n",
    "- **API**: https://api.ufrn.br/\n",
    "- **Dados abertos**: http://dados.ufrn.br/\n",
    "\n",
    "Equipe:\n",
    "- [Álvaro Ferreira Pires de Paiva](https://github.com/alvarofpp)\n",
    "- [Daniel Souza Affonso Ferreira](https://github.com/danielsouzaaf)\n",
    "- [Ítalo Epifânio](https://github.com/itepifanio)\n",
    "- [Rodrigo Silva](https://github.com/rdsilva)\n",
    "\n",
    "<hr/>"
   ]
  },
  {
   "cell_type": "markdown",
   "metadata": {},
   "source": [
    "# Organização do Jupyter Notebook\n",
    "- [Dependências](#dependencies)\n",
    "- [Configuração do ambiente](#config)\n",
    "- [Tratamento dos dados](#treatment)\n",
    "  - Imports da vida\n",
    "  - ENV\n",
    "  - Manipulação dos dados\n",
    "  \n",
    "<hr/>"
   ]
  },
  {
   "cell_type": "markdown",
   "metadata": {},
   "source": [
    "# <a id='dependencies'>Dependências</a>"
   ]
  },
  {
   "cell_type": "code",
   "execution_count": null,
   "metadata": {
    "collapsed": true
   },
   "outputs": [],
   "source": [
    "# Nothing for now"
   ]
  },
  {
   "cell_type": "markdown",
   "metadata": {},
   "source": [
    "# <a id=\"config\">Configuração do ambiente</a>\n",
    "<p>\n",
    "Antes de começar a execução do Jupyter Notebook, verifique se existe um arquivo **.env** e que ele contenha os dados necessários para o acesso à API.\n",
    "</p>\n",
    "<p>\n",
    "Caso não possua o respectivo arquivo, copie o arquivo **.env.example** e renomeie para **.env**, inserindo nele as informações requisitadas (*client-id*, *client-secret* e *x-api-key*).\n",
    "</p>"
   ]
  },
  {
   "cell_type": "markdown",
   "metadata": {},
   "source": [
    "# <a id=\"treatment\">Tratamento dos dados</a>"
   ]
  },
  {
   "cell_type": "markdown",
   "metadata": {},
   "source": [
    "## Imports da vida"
   ]
  },
  {
   "cell_type": "code",
   "execution_count": null,
   "metadata": {
    "collapsed": true
   },
   "outputs": [],
   "source": [
    "import pandas as pd"
   ]
  },
  {
   "cell_type": "markdown",
   "metadata": {},
   "source": [
    "## ENV"
   ]
  },
  {
   "cell_type": "code",
   "execution_count": null,
   "metadata": {
    "collapsed": false
   },
   "outputs": [],
   "source": [
    "ENV = pd.read_json('.env', orient='records').iloc[0]\n",
    "ENV"
   ]
  },
  {
   "cell_type": "markdown",
   "metadata": {},
   "source": [
    "## Manipulação dos dados"
   ]
  },
  {
   "cell_type": "code",
   "execution_count": null,
   "metadata": {
    "collapsed": true
   },
   "outputs": [],
   "source": []
  }
 ],
 "metadata": {
  "kernelspec": {
   "display_name": "Python 3",
   "language": "python",
   "name": "python3"
  },
  "language_info": {
   "codemirror_mode": {
    "name": "ipython",
    "version": 3
   },
   "file_extension": ".py",
   "mimetype": "text/x-python",
   "name": "python",
   "nbconvert_exporter": "python",
   "pygments_lexer": "ipython3",
   "version": "3.6.0"
  }
 },
 "nbformat": 4,
 "nbformat_minor": 2
}
